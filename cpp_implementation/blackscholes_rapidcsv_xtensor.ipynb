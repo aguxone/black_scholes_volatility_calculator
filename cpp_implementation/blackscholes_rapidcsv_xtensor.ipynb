{
 "cells": [
  {
   "cell_type": "markdown",
   "metadata": {},
   "source": [
    "## Código"
   ]
  },
  {
   "cell_type": "markdown",
   "metadata": {},
   "source": [
    "### Procesamiento del CSV"
   ]
  },
  {
   "cell_type": "code",
   "execution_count": 1,
   "metadata": {
    "vscode": {
     "languageId": "cpp"
    }
   },
   "outputs": [],
   "source": [
    "#include <iostream>\n",
    "#include <string>\n",
    "#include <vector>\n",
    "#include <limits>\n",
    "#include <xtensor/xarray.hpp>\n",
    "#include <xtensor/xadapt.hpp>\n",
    "#include <xtensor/xio.hpp> // Include this header for printing\n",
    "#include <fstream> // For opening file\n",
    "#include <xtensor/xcsv.hpp> // For exporting to csv at the end\n",
    "#include \"xtensor/xview.hpp\"\n",
    "#include \"rapidcsv.h\"\n",
    "\n",
    "// Dejo una función para covertir fechas con el formato que quiero a segundos desde el epoch\n",
    "std::vector<std::time_t> convert_dates_to_seconds(const std::vector<std::string>& date_strings) \n",
    "{\n",
    "    std::vector<std::time_t> seconds_since_epoch;\n",
    "\n",
    "    for (const auto& date_str : date_strings) {\n",
    "        std::tm tm = {};\n",
    "        std::istringstream ss(date_str);\n",
    "\n",
    "        // Parse the date string using the appropriate format\n",
    "        ss >> std::get_time(&tm, \"%m/%d/%Y %H:%M\");\n",
    "        if (ss.fail()) {\n",
    "            std::cerr << \"Failed to parse date: \" << date_str << std::endl;\n",
    "            continue; // Skip this entry on failure\n",
    "        }\n",
    "\n",
    "        // Convert to time_t (seconds since epoch)\n",
    "        std::time_t time = std::mktime(&tm);\n",
    "        seconds_since_epoch.push_back(time);\n",
    "    }\n",
    "\n",
    "        return seconds_since_epoch;\n",
    "}\n",
    "\n",
    "using namespace std;\n",
    "using namespace rapidcsv;\n",
    "\n",
    "    // LabelParams (a,b), defecto es (0,-1), pero dejarlo así. Con a=0 usa la primer fila de header, los interpreta como string.\n",
    "    // El b se me hace misterioso dejarlo en -1, pero si le ponemos 0, interpreta TODO como string dps.\n",
    "    // ConverterParams(true) ES PARA MISSING VALUES (y Wrong): Para datos float les pone el tipo std::numeric_limits<long double>::signaling_NaN(), y para ints es 0 (pero como long long, no int).\n",
    "    // FACILMENTE PODEMOS DECIDIR NOSOTROS el tipo llamando la funcion así ConverterParams(true, ELTIPOPARAFLOAT, ELTIPOPARAINT, true), yo RECOMIENDO usar NaN de tipo DOUBLE si en nuestro código usamos double para los float, y tipo int para int si es nuestro código usa \"ints\" (y no long long que es feo). SI DEJAMOS LOS DEFAULT VAMOS A TENER WARNING DE UN \"NARROWING\" porque acá definimos un longdouble de nan y en el código se usa un double y a mí ME CAGABA por ejemplo los nanamean interpretaba MAL los NAN!, OJO!\n",
    "    // Ejemplo si los queiro float e ints como NaN pongo ConverterParams (false,std::numeric_limits<long double>::signaling_NaN(),std::numeric_limits<long double>::signaling_NaN(), true)\n",
    "    // NOTA: Para un int no se considera NaN como tan válido no sé por qué, se usa quizá std::numeric_limits<long double>::max() que es el máximo int representable que es gigantezco.\n",
    "    // NOTA 2: ES NECESARIO ADEMÁS para realizar conversiones en general depsués estos parámetros así que está bueno tenerlos definidos de UNA\n",
    "    // NOTA 3: Si queremos los default NO los ponemos, o escribimos rapidcsv:ConverterParams(true) (que es poner el primer parámetro nomás)\n",
    "    using namespace rapidcsv;\n",
    "    ConverterParams params(true, numeric_limits<long double>::signaling_NaN(), numeric_limits<long long>::signaling_NaN(), true);\n",
    "    Document doc(\"./Exp_Octubre.csv\", LabelParams(), SeparatorParams(';'), ConverterParams(params) );\n",
    "    // Dps de este comando guardó los datos como byte digamos, después los podemos castear a lo que queramos y allí habrá una intepreteación de cómo eran los datos\n",
    "    // de manera individual o en vectors que es lo más útil.\n",
    "    // Lo bueno es que lo podemos castear a lo que queramos básicamente.\n",
    "\n",
    "    // Removemos las columnas que no usaremos en absoluto\n",
    "    doc.RemoveColumn(\"description\");\n",
    "    doc.RemoveColumn(\"kind\");\n",
    "    \n",
    "    // Extract the columns as strings\n",
    "    // En los nombres de las variables nos alcanza con dejarlo como auto.\n",
    "    // PERO, en GetColumn podemos CASTEAR (entre brackets), interpretó un tipo pero si era int nos los pasa a float, o lo dejamos como int is queremos\n",
    "    // EPA está bueno\n",
    "\n",
    "    // Creamos un vector que contenga todas las columnas (casteadas como string, las vamos a modificar)\n",
    "\n",
    "    vector<vector<string>> numeric_columns_str =\n",
    "    {\n",
    "        doc.GetColumn<string>(\"bid\"), // COL 0 \n",
    "        doc.GetColumn<string>(\"ask\"), // COL 1\n",
    "        doc.GetColumn<string>(\"underBid\"), // COL 2\n",
    "        doc.GetColumn<string>(\"underAsk\"), // COL 3\n",
    "    };\n",
    "\n",
    "    // Guardamos la columna de fechas de manera separada\n",
    "    auto created_at = doc.GetColumn<string>(\"created_at\");\n",
    "    // Convertimos a segundos con la función ya definida para ser manipulado adecuadamente con xtensor\n",
    "    // auto created_at_seconds = convert_dates_to_seconds(created_at);\n",
    "\n",
    "    // Hay que realizar las siguientes modificaciones\n",
    "    // - reemplazar comas por puntos praa correcta interpretacion\n",
    "    // - convertir de strin a double teniendo en cuenta valroes incorrectos como nan\n",
    "\n",
    "    // CREAMOS una nueva lista-vector donde colocaremos las filas con las modificaciones necesarias\n",
    "    vector< vector<double> > numeric_columns;\n",
    "\n",
    "    // Realizamos las modificaciones a las columnas anteriores y las agregamos a este vector final\n",
    "\n",
    "    for (auto column : numeric_columns_str)\n",
    "    {\n",
    "        // Creamos una columna temporal a modificar\n",
    "        vector<double> modified_column;\n",
    "\n",
    "        // Modificamos dentro de los items de cada columna\n",
    "        for (auto value : column)\n",
    "        {\n",
    "            // Reemplazamos las comas por puntos\n",
    "            replace(value.begin(), value.end(), ',', '.'); // Replace commas with points\n",
    "            double tempdouble;\n",
    "            // Convertimos de string a double, usamos rapidcsv mismo que maneja datos incorrectos automaticamente\n",
    "            // (o sea rapidcsv::Converter)\n",
    "            // (alternativa con un if sería std::stof)\n",
    "            Converter<double>(params).ToVal(value, tempdouble );\n",
    "            //\n",
    "            modified_column.push_back( tempdouble );\n",
    "        }\n",
    "        // Colocamos la columna modificada en la lista-vector de columnas finales\n",
    "        numeric_columns.push_back(modified_column);\n",
    "    }\n",
    "\n",
    "    // for (auto value: numeric_columns[3])\n",
    "    // {\n",
    "    //     cout << value << endl;\n",
    "    // }"
   ]
  },
  {
   "cell_type": "markdown",
   "metadata": {},
   "source": [
    "Funciones necesarias para los cálculos"
   ]
  },
  {
   "cell_type": "code",
   "execution_count": 2,
   "metadata": {
    "vscode": {
     "languageId": "cpp"
    }
   },
   "outputs": [],
   "source": [
    "// Define constants, so we calculate sqrt only once in the code\n",
    "const double sqrt_0_5 = sqrt(0.5);"
   ]
  },
  {
   "cell_type": "code",
   "execution_count": 3,
   "metadata": {
    "vscode": {
     "languageId": "cpp"
    }
   },
   "outputs": [],
   "source": [
    "// Cumulative distribution function as function of native complementary error function in c++\n",
    "double normalCDF(double z_value) {\n",
    "    return 0.5 * erfc( - (z_value * sqrt_0_5) );\n",
    "    // return 0.5 * (1 + erf(z_value * sqrt_0_5) ) ;\n",
    "    // return 0.5 * erfc( (z_value / sqrt_0_5) );\n",
    "}"
   ]
  },
  {
   "cell_type": "code",
   "execution_count": 4,
   "metadata": {
    "vscode": {
     "languageId": "cpp"
    }
   },
   "outputs": [],
   "source": [
    "// Define the function to optimize (Black-Scholes formula)\n",
    "double function_to_optimize(double S, double K, double r, double T, double price, double sigma) {\n",
    "    // Multiplying instead of using pow is generally faster\n",
    "    double d1 = (log(S / K) + ( (r + (0.5 * sigma * sigma) ) * T ) ) / (sigma * sqrt(T));\n",
    "    double d2 = d1 - ( sigma * sqrt(T) );\n",
    "    double n1 = normalCDF(d1);\n",
    "    double n2 = normalCDF(d2);\n",
    "    double discount_factor = exp(-r * T);\n",
    "    double call_price = (S * n1 ) - (K * discount_factor * n2);\n",
    "\n",
    "    // std::cout << \"d1: \" << d1 << \"\\n\";\n",
    "    // std::cout << \"d2: \" << d2 << \"\\n\";\n",
    "    // std::cout << \"n1: \" << n1 << \"\\n\";\n",
    "    // std::cout << \"n2: \" << n2 << \"\\n\";\n",
    "\n",
    "    return call_price - price; // Function should be zero at the root, we are going to use Newton - Rhapsod iterative method\n",
    "}"
   ]
  },
  {
   "cell_type": "code",
   "execution_count": 5,
   "metadata": {
    "vscode": {
     "languageId": "cpp"
    }
   },
   "outputs": [
    {
     "data": {
      "text/plain": [
       "-38.859021"
      ]
     },
     "execution_count": 5,
     "metadata": {},
     "output_type": "execute_result"
    }
   ],
   "source": [
    "double S = 1169.5;    // Current stock price\n",
    "double K = 1033.0;     // Strike price\n",
    "double r = 0.9;    // Risk-free rate\n",
    "double T = 1.0 * (30.0/360.0);   // Time to maturity\n",
    "double price = 250.0;    // Observed option price\n",
    "// For bisection method specifically\n",
    "function_to_optimize(S, K, r, T, price, 0.001)"
   ]
  },
  {
   "cell_type": "code",
   "execution_count": 6,
   "metadata": {
    "vscode": {
     "languageId": "cpp"
    }
   },
   "outputs": [],
   "source": [
    "// Function to find implied volatility using the bisection method\n",
    "std::vector<double> implied_volatility_bisection(double S, double K, double r, double T, double price, double lower_bound, double upper_bound, double tol = 1e-6, int max_iter = 1000) {\n",
    "    // Define initial bounds for implied volatility\n",
    "    // const double lower_bound = 0.001;\n",
    "    // const double upper_bound = 2.0;\n",
    "    double sigma_low = lower_bound;\n",
    "    double sigma_high = upper_bound;\n",
    "        \n",
    "\n",
    "    // Ensure that observed price lies between calculated prices at initial bounds\n",
    "    // We check for the \"sign\", the correct value is zero 0, so for bolzano one boundarie must be negative and\n",
    "    // the other one positive, giving the multipication a negative number\n",
    "    if (function_to_optimize(S, K, r, T, price, sigma_low) * function_to_optimize(S, K, r, T, price, sigma_high) > 0) {\n",
    "        // std::cout << \"OUT OF BOUNDS\";\n",
    "        return {NAN, NAN, NAN}; // Return NaN if bounds are incorrect\n",
    "    }\n",
    "    \n",
    "\n",
    "    std::vector<double> result;\n",
    "    // Bisection loop\n",
    "    for (int iter = 0; iter < max_iter; ++iter) {\n",
    "        double sigma_mid = (sigma_low + sigma_high) / 2;\n",
    "        double call_price_mid = function_to_optimize(S, K, r, T, price, sigma_mid);\n",
    "        // std::printf(\"The call price mid is  %.2f\\n\", call_price_mid);\n",
    "        // std::cout << \"The price mid is\" << call_price_mid;\n",
    "\n",
    "        // This call_price_mid here should ideally be equal to zero\n",
    "        if (std::abs(call_price_mid) < tol) {\n",
    "            result.push_back(sigma_mid);\n",
    "            result.push_back(call_price_mid);\n",
    "            result.push_back(iter);\n",
    "            return result;\n",
    "        }\n",
    "\n",
    "        if (call_price_mid < 0) {\n",
    "            sigma_low = sigma_mid;\n",
    "        } else {\n",
    "            sigma_high = sigma_mid;\n",
    "        }\n",
    "    }\n",
    "\n",
    "    // std::cout << \"No convergence\";\n",
    "    return {NAN, NAN, NAN}; // Return NaN if no convergence within max iterations\n",
    "}"
   ]
  },
  {
   "cell_type": "code",
   "execution_count": 7,
   "metadata": {
    "vscode": {
     "languageId": "cpp"
    }
   },
   "outputs": [
    {
     "data": {
      "text/plain": [
       "0.70161483"
      ]
     },
     "execution_count": 7,
     "metadata": {},
     "output_type": "execute_result"
    }
   ],
   "source": [
    "// double S = 1169.5;    // Current stock price\n",
    "// double K = 1033.0;     // Strike price\n",
    "// double r = 0.9;    // Risk-free rate\n",
    "// double T = 1.0 * (30.0/360.0);   // Time to maturity\n",
    "// double price = 250.0;    // Observed option price\n",
    "// // For bisection method specifically\n",
    "double lower_bound = 0.001;\n",
    "double upper_bound = 2.0;\n",
    "double tol = 1e-6;\n",
    "double max_iter = 10000;\n",
    "\n",
    "// Dato segunda fila. El T maturity lo saqué de python\n",
    "// double S = 1211.5;    // Current stock price\n",
    "// double K = 1033.0;     // Strike price\n",
    "// double r = 0.9;    // Risk-free rate\n",
    "// double T = 0.117421;   // Time to maturity\n",
    "// double price = 270.602;    // Observed option price\n",
    "\n",
    "// Dato tercera fila\n",
    "double S = 1209.500\t;    // Current stock price\n",
    "double K = 1033.0;     // Strike price\n",
    "double r = 0.9;    // Risk-free rate\n",
    "double T = 0.117419\t;   // Time to maturity\n",
    "double price = 297.6530;    // Observed option price\n",
    "\t\n",
    "implied_volatility_bisection(S, K, r, T, price, lower_bound, upper_bound, tol, max_iter)[0]"
   ]
  },
  {
   "cell_type": "code",
   "execution_count": 8,
   "metadata": {
    "vscode": {
     "languageId": "cpp"
    }
   },
   "outputs": [
    {
     "data": {
      "text/plain": [
       "911.84700"
      ]
     },
     "execution_count": 8,
     "metadata": {},
     "output_type": "execute_result"
    }
   ],
   "source": [
    "function_to_optimize(S, K, r, T, price, 2345)"
   ]
  },
  {
   "cell_type": "markdown",
   "metadata": {},
   "source": [
    "#### CALCULOS"
   ]
  },
  {
   "cell_type": "code",
   "execution_count": 9,
   "metadata": {
    "vscode": {
     "languageId": "cpp"
    }
   },
   "outputs": [
    {
     "name": "stdout",
     "output_type": "stream",
     "text": [
      "{{ 1.308148},\n",
      " { 0.707107},\n",
      " { 2.12132 },\n",
      " ...,\n",
      " { 1.343503},\n",
      " { 0.707107},\n",
      " { 2.12132 }}"
     ]
    },
    {
     "data": {
      "text/html": [
       "<table style='border-style:solid;border-width:1px;'><tbody><tr><td style='font-family:monospace;' title='(0, 0)'><pre> 2.500000e+02</pre></td><td style='font-family:monospace;' title='(0, 1)'><pre>          nan</pre></td><td style='font-family:monospace;' title='(0, 2)'><pre> 1.211150e+03</pre></td><td><center>⋯</center></td><td style='font-family:monospace;' title='(0, 11)'><pre> 1.694183e+09</pre></td><td style='font-family:monospace;' title='(0, 12)'><pre> 1.174228e-01</pre></td><td style='font-family:monospace;' title='(0, 13)'><pre>          nan</pre></td></tr><tr><td style='font-family:monospace;' title='(1, 0)'><pre> 2.706020e+02</pre></td><td style='font-family:monospace;' title='(1, 1)'><pre>          nan</pre></td><td style='font-family:monospace;' title='(1, 2)'><pre> 1.211000e+03</pre></td><td><center>⋯</center></td><td style='font-family:monospace;' title='(1, 11)'><pre> 1.694183e+09</pre></td><td style='font-family:monospace;' title='(1, 12)'><pre> 1.174209e-01</pre></td><td style='font-family:monospace;' title='(1, 13)'><pre>          nan</pre></td></tr><tr><td style='font-family:monospace;' title='(2, 0)'><pre> 2.706520e+02</pre></td><td style='font-family:monospace;' title='(2, 1)'><pre> 3.246540e+02</pre></td><td style='font-family:monospace;' title='(2, 2)'><pre> 1.208000e+03</pre></td><td><center>⋯</center></td><td style='font-family:monospace;' title='(2, 11)'><pre> 1.694183e+09</pre></td><td style='font-family:monospace;' title='(2, 12)'><pre> 1.174190e-01</pre></td><td style='font-family:monospace;' title='(2, 13)'><pre> 7.016150e-01</pre></td></tr><tr><td><center>⋮</center></td><td><center>⋮</center></td><td><center>⋮</center></td><td><center>⋱</center></td><td><center>⋮</center></td><td><center>⋮</center></td><td><center>⋮</center></td></tr><tr><td style='font-family:monospace;' title='(3293, 0)'><pre> 1.000010e+02</pre></td><td style='font-family:monospace;' title='(3293, 1)'><pre> 1.080000e+02</pre></td><td style='font-family:monospace;' title='(3293, 2)'><pre> 1.140100e+03</pre></td><td><center>⋯</center></td><td style='font-family:monospace;' title='(3293, 11)'><pre> 1.697740e+09</pre></td><td style='font-family:monospace;' title='(3293, 12)'><pre> 3.084491e-03</pre></td><td style='font-family:monospace;' title='(3293, 13)'><pre>          nan</pre></td></tr><tr><td style='font-family:monospace;' title='(3294, 0)'><pre> 1.000080e+02</pre></td><td style='font-family:monospace;' title='(3294, 1)'><pre> 1.080000e+02</pre></td><td style='font-family:monospace;' title='(3294, 2)'><pre> 1.143000e+03</pre></td><td><center>⋯</center></td><td style='font-family:monospace;' title='(3294, 11)'><pre> 1.697740e+09</pre></td><td style='font-family:monospace;' title='(3294, 12)'><pre> 3.076775e-03</pre></td><td style='font-family:monospace;' title='(3294, 13)'><pre>          nan</pre></td></tr><tr><td style='font-family:monospace;' title='(3295, 0)'><pre> 1.000080e+02</pre></td><td style='font-family:monospace;' title='(3295, 1)'><pre> 1.150000e+02</pre></td><td style='font-family:monospace;' title='(3295, 2)'><pre> 1.135000e+03</pre></td><td><center>⋯</center></td><td style='font-family:monospace;' title='(3295, 11)'><pre> 1.697741e+09</pre></td><td style='font-family:monospace;' title='(3295, 12)'><pre> 3.051698e-03</pre></td><td style='font-family:monospace;' title='(3295, 13)'><pre> 1.050902e+00</pre></td></tr></tbody></table>"
      ]
     },
     "execution_count": 9,
     "metadata": {},
     "output_type": "execute_result"
    }
   ],
   "source": [
    "// Function to adapt a 2D std::vector to an xt::xarray\n",
    "// Funcion, de output un xarray. De parámetros input un vector de entrada\n",
    "xt::xarray<double> adapt_vector_2d(const std::vector<std::vector<double>>& vec) {\n",
    "    // Get the shape of the 2D vector\n",
    "    std::vector<size_t> shape = {vec.size(), vec.empty() ? 0 : vec[0].size()};\n",
    "\n",
    "    // Flatten the 2D vector into a 1D vector\n",
    "    std::vector<double> flat_vec;\n",
    "    for (const auto& row : vec) {\n",
    "        // Simplemente insertamos cada vector de a uno en el vector nuevo\n",
    "        flat_vec.insert(flat_vec.end(), row.begin(), row.end());\n",
    "    }\n",
    "\n",
    "    // Adapt the flattened vector as an xarray\n",
    "    // We must traspose the final matrix to show correctly\n",
    "    return xt::transpose( xt::adapt(flat_vec, shape) );\n",
    "};\n",
    "\n",
    "// CALCULOS\n",
    "// TENEMOS QUE CALCULAR\n",
    "// CHECK calcular promedios de opciones y stocks (avopt y avstock) momento a momento\n",
    "// - desvíos estándar históricos (entre bid y price de opciones más fácil)\n",
    "// - desvío estándar \"by minute\", hacer un shift primero de los datos o ver\n",
    "// - time to maturities a todo momento\n",
    "\n",
    "// Convertimos a segundos con la función ya definida para ser manipulado adecuadamente con xtensor\n",
    "auto created_at_seconds = convert_dates_to_seconds(created_at);\n",
    "\n",
    "\n",
    "xt::xarray<double> numeric_columns_xarray = adapt_vector_2d(numeric_columns);\n",
    "// Vamos guardando para siempre el número de filas\n",
    "int numberofrows = numeric_columns_xarray.shape()[0];\n",
    "// Calculamos los avergae de opciones y de acciones(stock), y calculamos el std historical instantaneo\n",
    "xt::xarray<double> avopt = xt::nanmean ( xt::view(numeric_columns_xarray, xt::all(),xt::range(0, 2)) , {1});\n",
    "avopt.reshape({numberofrows,1}); // COL 4\n",
    "xt::xarray<double> avstock = xt::nanmean ( xt::view(numeric_columns_xarray, xt::all(),xt::range(2, 4)) , {1});\n",
    "avstock.reshape({numberofrows,1}); // COL 5\n",
    "// Ojo el std dev, {1} es el eje, y el 1 dps es \"sample standard deviation\" (n-1) en vez de la population\n",
    "xt::xarray<double> std_instant_historical = xt::stddev( xt::view( numeric_columns_xarray, xt::all(), xt::range(2,4) ) , {1}, 1) ;\n",
    "std_instant_historical.reshape({numberofrows,1}); // COL 6\n",
    "// Appendeamos al array original estos resultados como columnas\n",
    "numeric_columns_xarray  = xt::concatenate(xt::xtuple(numeric_columns_xarray, avopt,avstock,std_instant_historical), 1);\n",
    "std::cout << std_instant_historical;\n",
    "\n",
    "\n",
    "// Para los otros los SHIFT vamos a hacer un stacking con una fila vacía\n",
    "// y además seleccionamos HASTA la anteúltima fila, para eso contamos filas totales y restamos uno.\n",
    "xt::xarray<double>empty_row {std::nan(\"\")};\n",
    "empty_row.reshape({1,1});\n",
    "xt::xarray<double> under_Bid_prev = xt::concatenate(  xt::xtuple (  empty_row , xt::view( numeric_columns_xarray,  xt::range(0,numberofrows-1) , xt::keep(2) ) ),  0 ); // COL 7\n",
    "xt::xarray<double> under_Ask_prev = xt::concatenate(  xt::xtuple (  empty_row , xt::view( numeric_columns_xarray,  xt::range(0, numberofrows-1 ), xt::keep(3) ) ),  0 ); // COL 8\n",
    "\n",
    "// SEGUIMOS PREPARANDO PARA LOS STD BY MINUTE\n",
    "// Concatenaos todas las columnas prmero\n",
    "numeric_columns_xarray = xt::concatenate(xt::xtuple(numeric_columns_xarray, under_Bid_prev, under_Ask_prev), 1);\n",
    "// Los average de los previous (los shifteados)\n",
    "xt::xarray<double> avstockprev = xt::nanmean( xt::view (numeric_columns_xarray, xt::all(), xt::range(7,9) ), {1} );\n",
    "avstockprev.reshape({numberofrows, 1}); \n",
    "// Reconcatenamos esta última fila con los average price de stock shifteados\n",
    "numeric_columns_xarray  = xt::concatenate(xt::xtuple(numeric_columns_xarray, avstockprev), 1); // COL 9\n",
    "\n",
    "// // Calculamos std by minute de una vez ahora entre los average de underbidask y uniderbidaskprev\n",
    "// // que son avstock y avstockprev\n",
    "// Creo un xarray temporal para esto porque no le gusta calcular cosas entre columnas NO contiguas lamentablemente\n",
    "xt::xarray<double> avstockavprev = xt::view( numeric_columns_xarray, xt::all(), xt::keep(5,9) );\n",
    "xt::xarray<double> std_by_minute = xt::stddev ( avstockavprev, {1}, 1); \n",
    "std_by_minute.reshape({numberofrows,1});\n",
    "// Concatenamos al original\n",
    "numeric_columns_xarray  = xt::concatenate(xt::xtuple(numeric_columns_xarray, std_by_minute), 1); // COL 10\n",
    "\n",
    "// PASAMOS A LOS CALCULOS CON FECHAS\n",
    "// Convertimos segundos created at a un xarray\n",
    "xt::xarray<double> created_at_seconds_xarray = xt::adapt(created_at_seconds, {numberofrows,1});\n",
    "// Apendeamos estos segundos\n",
    "numeric_columns_xarray  = xt::concatenate(xt::xtuple(numeric_columns_xarray, created_at_seconds_xarray), 1); // COL 11\n",
    "// Escribimos la fecha de vencimiento de opciones como vector 1D y la transformamos\n",
    "std::vector<std::string> vencimiento = {{\"10/20/2023 18:00\"}};\n",
    "auto vencimiento_seconds_str = convert_dates_to_seconds(vencimiento);\n",
    "xt::xarray<double> vencimiento_seconds = xt::adapt (vencimiento_seconds_str, {1,1});\n",
    "// Le restmoas entonces el tiempo a cada fila para obtener time to maturity\n",
    "xt::xarray<double> timetomaturity_seconds =  vencimiento_seconds - created_at_seconds_xarray;\n",
    "// Pasamos el tiempo a años!\n",
    "xt::xarray<double> timetomaturity_years = timetomaturity_seconds / 31104000;\n",
    "// Agregamos el timetomaturity_years al xarray\n",
    "numeric_columns_xarray  = xt::concatenate(xt::xtuple(numeric_columns_xarray, timetomaturity_years), 1); // COL 12\n",
    "\n",
    "// Comenzamos a calcular lo importante las volatilidades\n",
    "// Definamos los parámetros de black-scholes\n",
    "const double lower_bound = 0.001;\n",
    "const double upper_bound = 2.0;\n",
    "double K = 1033.0;  // Strike price, default 100\n",
    "double r = 0.9;   // Risk-free interest rate, default 0.03\n",
    "double tol = 1e-6;\n",
    "int max_iter = 1000;\n",
    "\n",
    "// Array vacío con zeros para guardar el resultado\n",
    "xt::xarray<double> bisection_results = xt::zeros<double>({numberofrows});\n",
    "// Usamos unsigned long long para for que es equivalente a un int positivo\n",
    "for ( unsigned long long i = 0; i < numberofrows; ++i) {\n",
    "    double S = numeric_columns_xarray(i, 5);  // avstock (column 5)\n",
    "    double price = numeric_columns_xarray(i, 4); // avopt (column 4)\n",
    "    double T = numeric_columns_xarray(i, 12); // time_to_maturity (column 12)\n",
    "    bisection_results(i) = implied_volatility_bisection(S, K, r, T, price, lower_bound, upper_bound, tol, max_iter)[0];    \n",
    "};\n",
    "// Reshapeamos el resultado\n",
    "bisection_results.reshape({numberofrows,1});\n",
    "// Concantenamos\n",
    "numeric_columns_xarray  = xt::concatenate(xt::xtuple(numeric_columns_xarray, bisection_results), 1); // COL 13\n",
    "\n",
    "// // Extraemos sólo las columnas deseadas\n",
    "auto selected_columns = xt::view(numeric_columns_xarray, xt::all(), xt::keep(6, 10, 13));\n",
    "// selected_columns;\n",
    "\n",
    "// // Exportamos a un csv\n",
    "// std::ofstream file(\"selected_columns.csv\");\n",
    "std::ofstream file(\"cpp_selected_columns_exp_octubre.csv\");\n",
    "xt::dump_csv(file, selected_columns);\n",
    "file.close();\n",
    "\n",
    "numeric_columns_xarray\n",
    "// YA ESTA TODO VIEJO CHECKEADO LOS NUMEROS Y EL CSV EXPORTADO,\n",
    "// HACERLO PARA EL FULL Y PONERSE A SCRIPTEARLO EN C nomás!"
   ]
  },
  {
   "cell_type": "code",
   "execution_count": 10,
   "metadata": {
    "vscode": {
     "languageId": "cpp"
    }
   },
   "outputs": [
    {
     "name": "stdout",
     "output_type": "stream",
     "text": [
      "{{  250.      ,          nan,  1211.15    ,  1213.      ,   250.      ,\n",
      "   1212.075   },\n",
      " {  270.602   ,          nan,  1211.      ,  1212.      ,   270.602   ,\n",
      "   1211.5     },\n",
      " {  270.652   ,   324.654   ,  1208.      ,  1211.      ,   297.653   ,\n",
      "   1209.5     },\n",
      " ...,\n",
      " {  100.001   ,   108.      ,  1140.1     ,  1142.      ,   104.0005  ,\n",
      "   1141.05    },\n",
      " {  100.008   ,   108.      ,  1143.      ,  1144.      ,   104.004   ,\n",
      "   1143.5     },\n",
      " {  100.008   ,   115.      ,  1135.      ,  1138.      ,   107.504   ,\n",
      "   1136.5     }}"
     ]
    },
    {
     "data": {
      "text/plain": [
       "@0x7f68f623cce0"
      ]
     },
     "execution_count": 10,
     "metadata": {},
     "output_type": "execute_result"
    }
   ],
   "source": [
    "std::cout << xt::view(numeric_columns_xarray, xt::all(), xt::range(0,6))"
   ]
  },
  {
   "cell_type": "code",
   "execution_count": 11,
   "metadata": {
    "vscode": {
     "languageId": "cpp"
    }
   },
   "outputs": [
    {
     "name": "stdout",
     "output_type": "stream",
     "text": [
      "{{ 2.500000e+02,           nan,  1.211150e+03, ...,  1.694183e+09,  1.174228e-01,\n",
      "            nan},\n",
      " { 2.706020e+02,           nan,  1.211000e+03, ...,  1.694183e+09,  1.174209e-01,\n",
      "            nan},\n",
      " { 2.706520e+02,  3.246540e+02,  1.208000e+03, ...,  1.694183e+09,  1.174190e-01,\n",
      "   7.016150e-01},\n",
      " ...,\n",
      " { 1.000010e+02,  1.080000e+02,  1.140100e+03, ...,  1.697740e+09,  3.084491e-03,\n",
      "            nan},\n",
      " { 1.000080e+02,  1.080000e+02,  1.143000e+03, ...,  1.697740e+09,  3.076775e-03,\n",
      "            nan},\n",
      " { 1.000080e+02,  1.150000e+02,  1.135000e+03, ...,  1.697741e+09,  3.051698e-03,\n",
      "   1.050902e+00}}"
     ]
    }
   ],
   "source": [
    "std::cout << numeric_columns_xarray;"
   ]
  },
  {
   "cell_type": "code",
   "execution_count": null,
   "metadata": {
    "vscode": {
     "languageId": "cpp"
    }
   },
   "outputs": [],
   "source": []
  }
 ],
 "metadata": {
  "kernelspec": {
   "display_name": "C++17",
   "language": "C++17",
   "name": "xcpp17"
  },
  "language_info": {
   "codemirror_mode": "text/x-c++src",
   "file_extension": ".cpp",
   "mimetype": "text/x-c++src",
   "name": "c++",
   "version": "17"
  }
 },
 "nbformat": 4,
 "nbformat_minor": 2
}
